{
 "cells": [
  {
   "cell_type": "code",
   "execution_count": 31,
   "metadata": {},
   "outputs": [],
   "source": [
    "import os\n",
    "import numpy as np\n",
    "import pandas as pd"
   ]
  },
  {
   "cell_type": "code",
   "execution_count": 32,
   "metadata": {},
   "outputs": [],
   "source": [
    "assert (\"Top_New\" in os.listdir(os.getcwd())), \"Please create Top_New directory!\""
   ]
  },
  {
   "cell_type": "markdown",
   "metadata": {},
   "source": [
    "## Getting All Files List"
   ]
  },
  {
   "cell_type": "code",
   "execution_count": 33,
   "metadata": {},
   "outputs": [],
   "source": [
    "cwd = os.getcwd() + \"/\"\n",
    "\n",
    "directory_list = [cwd + \"Top_New/\"]\n",
    "file_list = []\n",
    "\n",
    "while len(directory_list) != 0:\n",
    "\n",
    "    for dl in directory_list:\n",
    "\n",
    "        dir_list = next(os.walk(dl))[1]\n",
    "        for i in range(len(dir_list)):\n",
    "            dir_list[i] = dl + dir_list[i] + \"/\"\n",
    "            \n",
    "        directory_list.extend(dir_list)\n",
    "\n",
    "        file_list.extend([dl+fl for fl in next(os.walk(dl))[2]])\n",
    "\n",
    "        directory_list.remove(dl)"
   ]
  },
  {
   "cell_type": "markdown",
   "metadata": {},
   "source": [
    "## Extracting Data From The Files"
   ]
  },
  {
   "cell_type": "code",
   "execution_count": 34,
   "metadata": {},
   "outputs": [],
   "source": [
    "data = {\"File_Name\": [],\n",
    "        \"Serial\": [],\n",
    "        \"Litho_1\": [],\n",
    "        \"Litho_2\": [],\n",
    "        \"Exam_No\": [],\n",
    "        \"Subject_Code\": [],\n",
    "        \"Roll\": [],\n",
    "        \"Venue_Code\": []\n",
    "       }\n",
    "\n",
    "split_lenght = [0, 32, 32, 2, 3, 9, 3]\n",
    "split = np.cumsum(split_lenght)\n",
    "\n",
    "for fl in file_list:\n",
    "    current_file = open(fl, \"r\")\n",
    "    serial = 1\n",
    "    for line in current_file:\n",
    "        data[\"File_Name\"].append(os.path.basename(fl)[:-4])\n",
    "        data[\"Serial\"].append(f\"{serial:010d}\")\n",
    "        \n",
    "        # iterate through all other keys excpet File_Name and Serial and set their values according to length\n",
    "        key = list(data.keys())[2:]\n",
    "        for i in range(0, len(key)):\n",
    "            if key[i] == \"Litho_1\" or key[i] == \"Litho_2\":\n",
    "                data[key[i]].append(line[split[i]:split[i+1]].replace(\" \", \"0\"))    # replacing <space> with 0 in Litho\n",
    "            else:\n",
    "                data[key[i]].append(line[split[i]:split[i+1]])\n",
    "        serial += 1"
   ]
  },
  {
   "cell_type": "code",
   "execution_count": 35,
   "metadata": {},
   "outputs": [],
   "source": [
    "df = pd.DataFrame(data)"
   ]
  },
  {
   "cell_type": "markdown",
   "metadata": {},
   "source": [
    "## Reading Applicants Data"
   ]
  },
  {
   "cell_type": "code",
   "execution_count": 36,
   "metadata": {},
   "outputs": [],
   "source": [
    "applicants = pd.read_csv(\"15th_ApplicantsInfo.txt\", sep='|', encoding='latin1')\n",
    "\n",
    "column_names = [\"Roll\", \"Applicants_Subject_Code\", \"DoB(YMD)\", \"Invoice\", \"Subject_Name\", \"MCQ_Marks\", \"Applicants_Name\", \"Post_Code\"]\n",
    "applicants.columns = column_names"
   ]
  },
  {
   "cell_type": "markdown",
   "metadata": {},
   "source": [
    "## Seperate Invalid Roll"
   ]
  },
  {
   "cell_type": "code",
   "execution_count": 37,
   "metadata": {},
   "outputs": [],
   "source": [
    "applicants = applicants[[\"Roll\", \"Applicants_Subject_Code\", \"DoB(YMD)\", \"Applicants_Name\"]]\n",
    "\n",
    "applicants[\"Roll\"] = applicants[\"Roll\"].astype(str)\n",
    "df[\"Roll\"] = df[\"Roll\"].astype(str)\n",
    "\n",
    "tdf = pd.merge(df, applicants, on=\"Roll\", how=\"inner\", suffixes=(\"\", \"_Main\"))"
   ]
  },
  {
   "cell_type": "code",
   "execution_count": 38,
   "metadata": {},
   "outputs": [],
   "source": [
    "tdf_roll = list(tdf[\"Roll\"])\n",
    "\n",
    "invalid_roll = df[~df[\"Roll\"].isin(tdf_roll)]\n",
    "\n",
    "if len(invalid_roll) > 0:\n",
    "    print(\"New INVALID ROLL found! Check for Invalid_Roll_Again.csv in Top_Output directory.\")\n",
    "    invalid_roll.to_csv(\"Top_Output/Invalid_Roll_2.csv\", index=False, sep=';')\n",
    "\n",
    "df = tdf.copy()"
   ]
  },
  {
   "cell_type": "markdown",
   "metadata": {},
   "source": [
    "## Merging New Tops to Previous Top.csv"
   ]
  },
  {
   "cell_type": "code",
   "execution_count": 39,
   "metadata": {},
   "outputs": [],
   "source": [
    "previous_top = pd.read_csv(\"Top_Output/Top.csv\", sep=';')\n",
    "\n",
    "df = pd.concat([previous_top, df])"
   ]
  },
  {
   "cell_type": "markdown",
   "metadata": {},
   "source": [
    "## Seperating Duplicate Roll, Unmatched Litho and Duplicate Litho Again!"
   ]
  },
  {
   "cell_type": "code",
   "execution_count": 40,
   "metadata": {},
   "outputs": [],
   "source": [
    "tdf = df[df[\"Roll\"].duplicated(keep=False)]\n",
    "\n",
    "tdf.to_csv(\"Top_Output/Duplicate_Roll_2.csv\", index=False, sep=';')\n",
    "df = df.drop(tdf.index)\n",
    "\n",
    "tdf = df[df[\"Litho_1\"] != df[\"Litho_2\"]]\n",
    "\n",
    "tdf.to_csv(\"Top_Output/Unmatched_Litho_Top_2.csv\", index=False, sep=';')\n",
    "df = df.drop(tdf.index)\n",
    "\n",
    "tdf = df[df.duplicated([\"Litho_1\", \"Litho_2\"])]\n",
    "\n",
    "tdf.to_csv(\"Top_Output/Duplicate_Top_2.csv\", index=False, sep=';')\n",
    "df = df.drop(tdf.index)"
   ]
  },
  {
   "cell_type": "code",
   "execution_count": 41,
   "metadata": {},
   "outputs": [],
   "source": [
    "df.to_csv(\"Top_Output/Top.csv\", index=False, sep=';')"
   ]
  },
  {
   "cell_type": "code",
   "execution_count": null,
   "metadata": {},
   "outputs": [],
   "source": []
  },
  {
   "cell_type": "code",
   "execution_count": null,
   "metadata": {},
   "outputs": [],
   "source": []
  }
 ],
 "metadata": {
  "kernelspec": {
   "display_name": "Python 3",
   "language": "python",
   "name": "python3"
  },
  "language_info": {
   "codemirror_mode": {
    "name": "ipython",
    "version": 3
   },
   "file_extension": ".py",
   "mimetype": "text/x-python",
   "name": "python",
   "nbconvert_exporter": "python",
   "pygments_lexer": "ipython3",
   "version": "3.6.8"
  }
 },
 "nbformat": 4,
 "nbformat_minor": 2
}
