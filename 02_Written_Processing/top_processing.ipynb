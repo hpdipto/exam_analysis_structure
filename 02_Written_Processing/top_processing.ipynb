{
 "cells": [
  {
   "cell_type": "code",
   "execution_count": 1,
   "metadata": {},
   "outputs": [],
   "source": [
    "import os\n",
    "import numpy as np\n",
    "import pandas as pd\n",
    "import shutil"
   ]
  },
  {
   "cell_type": "markdown",
   "metadata": {},
   "source": [
    "## Remove Top_Output If Exists Else Create Newly"
   ]
  },
  {
   "cell_type": "code",
   "execution_count": 2,
   "metadata": {},
   "outputs": [],
   "source": [
    "if \"Top_Output\" in next(os.walk(os.getcwd()))[1]:\n",
    "    shutil.rmtree(\"Top_Output\")\n",
    "\n",
    "os.mkdir(\"Top_Output\")"
   ]
  },
  {
   "cell_type": "markdown",
   "metadata": {},
   "source": [
    "## Getting All Files List"
   ]
  },
  {
   "cell_type": "code",
   "execution_count": 3,
   "metadata": {},
   "outputs": [],
   "source": [
    "cwd = os.getcwd() + \"/\"\n",
    "\n",
    "directory_list = [cwd + \"Top/\"]\n",
    "file_list = []\n",
    "\n",
    "while len(directory_list) != 0:\n",
    "\n",
    "    for dl in directory_list:\n",
    "\n",
    "        dir_list = next(os.walk(dl))[1]\n",
    "        for i in range(len(dir_list)):\n",
    "            dir_list[i] = dl + dir_list[i] + \"/\"\n",
    "            \n",
    "        directory_list.extend(dir_list)\n",
    "\n",
    "        file_list.extend([dl+fl for fl in next(os.walk(dl))[2]])\n",
    "\n",
    "        directory_list.remove(dl)"
   ]
  },
  {
   "cell_type": "markdown",
   "metadata": {},
   "source": [
    "## Extracting Data From The Files"
   ]
  },
  {
   "cell_type": "code",
   "execution_count": 4,
   "metadata": {},
   "outputs": [],
   "source": [
    "data = {\"File_Name\": [],\n",
    "        \"Serial\": [],\n",
    "        \"Litho_1\": [],\n",
    "        \"Litho_2\": [],\n",
    "        \"Exam_No\": [],\n",
    "        \"Subject_Code\": [],\n",
    "        \"Roll\": [],\n",
    "        \"Venue_Code\": []\n",
    "       }\n",
    "\n",
    "split_lenght = [0, 32, 32, 2, 3, 9, 3]\n",
    "split = np.cumsum(split_lenght)\n",
    "\n",
    "for fl in file_list:\n",
    "    current_file = open(fl, \"r\")\n",
    "    serial = 1\n",
    "    for line in current_file:\n",
    "        data[\"File_Name\"].append(os.path.basename(fl)[:-4])\n",
    "        data[\"Serial\"].append(f\"{serial:010d}\")\n",
    "        \n",
    "        # iterate through all other keys excpet File_Name and Serial and set their values according to length\n",
    "        key = list(data.keys())[2:]\n",
    "        for i in range(0, len(key)):\n",
    "            if key[i] == \"Litho_1\" or key[i] == \"Litho_2\":\n",
    "                data[key[i]].append(line[split[i]:split[i+1]].replace(\" \", \"0\"))    # replacing <space> with 0 in Litho\n",
    "            else:\n",
    "                data[key[i]].append(line[split[i]:split[i+1]])\n",
    "        serial += 1"
   ]
  },
  {
   "cell_type": "code",
   "execution_count": 5,
   "metadata": {},
   "outputs": [],
   "source": [
    "df = pd.DataFrame(data)\n",
    "\n",
    "df.to_csv(\"Top_Output/All_Top.csv\", index=False, sep=';')"
   ]
  },
  {
   "cell_type": "markdown",
   "metadata": {},
   "source": [
    "## Seperate Duplicate Top Rows"
   ]
  },
  {
   "cell_type": "code",
   "execution_count": 6,
   "metadata": {},
   "outputs": [],
   "source": [
    "duplicate_top = df[df.duplicated([\"Litho_1\", \"Litho_2\"])]\n",
    "\n",
    "df = df.drop(duplicate_top.index)\n",
    "\n",
    "duplicate_top.to_csv(\"Top_Output/Duplicate_Top.csv\", index=False, sep=';')"
   ]
  },
  {
   "cell_type": "markdown",
   "metadata": {},
   "source": [
    "## Reading Applicants Data"
   ]
  },
  {
   "cell_type": "code",
   "execution_count": 7,
   "metadata": {},
   "outputs": [],
   "source": [
    "applicants = pd.read_csv(\"15th_ApplicantsInfo.txt\", sep='|', encoding='latin1')\n",
    "\n",
    "column_names = [\"Roll\", \"Applicants_Subject_Code\", \"DoB(YMD)\", \"Invoice\", \"Subject_Name\", \"MCQ_Marks\", \"Applicants_Name\", \"Post_Code\"]\n",
    "applicants.columns = column_names"
   ]
  },
  {
   "cell_type": "markdown",
   "metadata": {},
   "source": [
    "## Seperate Invalid Roll"
   ]
  },
  {
   "cell_type": "code",
   "execution_count": 8,
   "metadata": {},
   "outputs": [],
   "source": [
    "applicants = applicants[[\"Roll\", \"Applicants_Subject_Code\", \"DoB(YMD)\", \"Applicants_Name\"]]\n",
    "\n",
    "applicants[\"Roll\"] = applicants[\"Roll\"].astype(str)\n",
    "df[\"Roll\"] = df[\"Roll\"].astype(str)\n",
    "\n",
    "tdf = pd.merge(df, applicants, on=\"Roll\", how=\"inner\", suffixes=(\"\", \"_Main\"))"
   ]
  },
  {
   "cell_type": "code",
   "execution_count": 9,
   "metadata": {},
   "outputs": [],
   "source": [
    "tdf_roll = list(tdf[\"Roll\"])\n",
    "\n",
    "invalid_roll = df[~df[\"Roll\"].isin(tdf_roll)]\n",
    "\n",
    "invalid_roll.to_csv(\"Top_Output/Invalid_Roll.csv\", index=False, sep=';')\n",
    "\n",
    "df = tdf.copy()"
   ]
  },
  {
   "cell_type": "markdown",
   "metadata": {},
   "source": [
    "## Seperate Unmatch Litho"
   ]
  },
  {
   "cell_type": "code",
   "execution_count": 10,
   "metadata": {},
   "outputs": [
    {
     "name": "stderr",
     "output_type": "stream",
     "text": [
      "/home/hpdipto/.local/lib/python3.6/site-packages/ipykernel_launcher.py:6: SettingWithCopyWarning: \n",
      "A value is trying to be set on a copy of a slice from a DataFrame\n",
      "\n",
      "See the caveats in the documentation: http://pandas.pydata.org/pandas-docs/stable/user_guide/indexing.html#returning-a-view-versus-a-copy\n",
      "  \n"
     ]
    }
   ],
   "source": [
    "unmatched_litho = df[df[\"Litho_1\"] != df[\"Litho_2\"]]\n",
    "\n",
    "df = df.drop(unmatched_litho.index)\n",
    "\n",
    "unmatched_litho = unmatched_litho.sort_values([\"File_Name\"])\n",
    "unmatched_litho[\"File_Name\"][unmatched_litho[\"File_Name\"].duplicated()] = \"\"\n",
    "\n",
    "unmatched_litho.to_excel(\"Top_Output/Unmatched_Litho_Top.xlsx\", index=False)"
   ]
  },
  {
   "cell_type": "markdown",
   "metadata": {},
   "source": [
    "## Seperate Duplicate Roll"
   ]
  },
  {
   "cell_type": "code",
   "execution_count": 11,
   "metadata": {},
   "outputs": [],
   "source": [
    "duplicate_roll = df[\"Roll\"].duplicated(keep=False)\n",
    "\n",
    "duplicate_roll = df[duplicate_roll]\n",
    "\n",
    "duplicate_roll = duplicate_roll.sort_values([\"File_Name\", \"Roll\"], ascending=[0, 0])\n",
    "\n",
    "df = df.drop(duplicate_roll.index)\n",
    "\n",
    "dup_roll = duplicate_roll[[\"File_Name\", \"Serial\", \"Roll\"]]   # cosidering only three columns"
   ]
  },
  {
   "cell_type": "code",
   "execution_count": 12,
   "metadata": {},
   "outputs": [],
   "source": [
    "dr = dup_roll[\"Roll\"].unique()\n",
    "duplicate_roll_file_list = {}\n",
    "\n",
    "for r in dr:\n",
    "    if r not in duplicate_roll_file_list:\n",
    "        duplicate_roll_file_list[r] = []"
   ]
  },
  {
   "cell_type": "code",
   "execution_count": 13,
   "metadata": {},
   "outputs": [],
   "source": [
    "get_file_info = lambda name: [(i, j) for i, j in zip(list(name[\"File_Name\"]), list(name[\"Serial\"]))]\n",
    "file_name_list = dup_roll.groupby([\"Roll\"]).apply(get_file_info)\n",
    "\n",
    "for r in duplicate_roll_file_list:\n",
    "    duplicate_roll_file_list[r].extend(list(file_name_list[r]))"
   ]
  },
  {
   "cell_type": "code",
   "execution_count": 14,
   "metadata": {},
   "outputs": [
    {
     "name": "stderr",
     "output_type": "stream",
     "text": [
      "/home/hpdipto/.local/lib/python3.6/site-packages/ipykernel_launcher.py:16: SettingWithCopyWarning: \n",
      "A value is trying to be set on a copy of a slice from a DataFrame.\n",
      "Try using .loc[row_indexer,col_indexer] = value instead\n",
      "\n",
      "See the caveats in the documentation: http://pandas.pydata.org/pandas-docs/stable/user_guide/indexing.html#returning-a-view-versus-a-copy\n",
      "  app.launch_new_instance()\n"
     ]
    }
   ],
   "source": [
    "another_file_list = []\n",
    "\n",
    "for i in range(len(dup_roll)):\n",
    "    roll = dup_roll[\"Roll\"].iloc[i]\n",
    "    file_name = dup_roll[\"File_Name\"].iloc[i]\n",
    "    serial = dup_roll[\"Serial\"].iloc[i]\n",
    "    \n",
    "    lst = duplicate_roll_file_list[roll].copy()\n",
    "    lst2 = duplicate_roll_file_list[roll].copy()\n",
    "    for l in lst2:\n",
    "        if file_name in l:\n",
    "            lst.remove(l)\n",
    "            \n",
    "    another_file_list.append(str(lst)[1:-1])\n",
    "    \n",
    "dup_roll[\"Another_Duplicate_File_List\"] = another_file_list"
   ]
  },
  {
   "cell_type": "code",
   "execution_count": 15,
   "metadata": {},
   "outputs": [],
   "source": [
    "machine_seperator = lambda name: 1 if \"M01\" in name else 2\n",
    "\n",
    "fltr = dup_roll[\"File_Name\"].apply(machine_seperator)\n",
    "machine_1 = [True if i == 1 else False for i in fltr]\n",
    "machine_2 = [True if i == 2 else False for i in fltr]\n",
    "\n",
    "machine_1 = dup_roll[machine_1]\n",
    "machine_2 = dup_roll[machine_2]"
   ]
  },
  {
   "cell_type": "code",
   "execution_count": 16,
   "metadata": {},
   "outputs": [
    {
     "name": "stderr",
     "output_type": "stream",
     "text": [
      "/home/hpdipto/.local/lib/python3.6/site-packages/pandas/core/generic.py:9116: SettingWithCopyWarning: \n",
      "A value is trying to be set on a copy of a slice from a DataFrame\n",
      "\n",
      "See the caveats in the documentation: http://pandas.pydata.org/pandas-docs/stable/user_guide/indexing.html#returning-a-view-versus-a-copy\n",
      "  self._update_inplace(new_data)\n",
      "/home/hpdipto/.local/lib/python3.6/site-packages/IPython/core/interactiveshell.py:3326: SettingWithCopyWarning: \n",
      "A value is trying to be set on a copy of a slice from a DataFrame\n",
      "\n",
      "See the caveats in the documentation: http://pandas.pydata.org/pandas-docs/stable/user_guide/indexing.html#returning-a-view-versus-a-copy\n",
      "  exec(code_obj, self.user_global_ns, self.user_ns)\n"
     ]
    }
   ],
   "source": [
    "machine_1[\"File_Name\"][machine_1.duplicated([\"File_Name\"])] = \"\"\n",
    "machine_2[\"File_Name\"][machine_2.duplicated([\"File_Name\"])] = \"\"\n",
    "\n",
    "machine_1.to_excel(\"Top_Output/Duplicate_Roll_M01_Report.xlsx\", index=False)\n",
    "machine_2.to_excel(\"Top_Output/Duplicate_Roll_M02_Report.xlsx\", index=False)"
   ]
  },
  {
   "cell_type": "markdown",
   "metadata": {},
   "source": [
    "## Final File"
   ]
  },
  {
   "cell_type": "code",
   "execution_count": 17,
   "metadata": {},
   "outputs": [],
   "source": [
    "df.to_csv(\"Top_Output/Top.csv\", index=False, sep=';')"
   ]
  },
  {
   "cell_type": "code",
   "execution_count": null,
   "metadata": {},
   "outputs": [],
   "source": []
  },
  {
   "cell_type": "code",
   "execution_count": null,
   "metadata": {},
   "outputs": [],
   "source": []
  },
  {
   "cell_type": "code",
   "execution_count": null,
   "metadata": {},
   "outputs": [],
   "source": []
  }
 ],
 "metadata": {
  "kernelspec": {
   "display_name": "Python 3",
   "language": "python",
   "name": "python3"
  },
  "language_info": {
   "codemirror_mode": {
    "name": "ipython",
    "version": 3
   },
   "file_extension": ".py",
   "mimetype": "text/x-python",
   "name": "python",
   "nbconvert_exporter": "python",
   "pygments_lexer": "ipython3",
   "version": "3.6.9"
  }
 },
 "nbformat": 4,
 "nbformat_minor": 2
}
