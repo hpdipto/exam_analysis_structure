{
 "cells": [
  {
   "cell_type": "code",
   "execution_count": 1,
   "metadata": {},
   "outputs": [],
   "source": [
    "import os\n",
    "import numpy as np\n",
    "import pandas as pd\n",
    "import shutil"
   ]
  },
  {
   "cell_type": "markdown",
   "metadata": {},
   "source": [
    "## Remove Top_Bott_Output If Exists Else Create Newly"
   ]
  },
  {
   "cell_type": "code",
   "execution_count": 2,
   "metadata": {},
   "outputs": [],
   "source": [
    "if \"Top_Bott_Output\" in next(os.walk(os.getcwd()))[1]:\n",
    "    shutil.rmtree(\"Top_Bott_Output\")\n",
    "\n",
    "os.mkdir(\"Top_Bott_Output\")"
   ]
  },
  {
   "cell_type": "markdown",
   "metadata": {},
   "source": [
    "## Reading Top & Bott Files"
   ]
  },
  {
   "cell_type": "code",
   "execution_count": 3,
   "metadata": {},
   "outputs": [],
   "source": [
    "top = pd.read_csv(\"Top_Output/Top.csv\", sep=';')\n",
    "bott = pd.read_csv(\"Bott_Output/Bott.csv\", sep=';')"
   ]
  },
  {
   "cell_type": "markdown",
   "metadata": {},
   "source": [
    "## Adding Invoice, Venue_Code Columns"
   ]
  },
  {
   "cell_type": "code",
   "execution_count": 4,
   "metadata": {},
   "outputs": [],
   "source": [
    "info = pd.read_excel(\"ntrcacentre_wr_15_oct13.xlsx\")"
   ]
  },
  {
   "cell_type": "code",
   "execution_count": 5,
   "metadata": {},
   "outputs": [],
   "source": [
    "top = pd.merge(top, info[[\"roll\", \"invoice\", \"exam_centre\", \"venue\"]], left_on='Roll', right_on='roll', how='inner')\n",
    "\n",
    "top = top.drop(\"roll\", axis=1)\n",
    "top = top.rename({\"invoice\": \"Invoice\", \"exam_centre\": \"Exam_Centre\", \"venue\": \"Venue\"}, axis=1)"
   ]
  },
  {
   "cell_type": "markdown",
   "metadata": {},
   "source": [
    "## Renaming Litho"
   ]
  },
  {
   "cell_type": "code",
   "execution_count": 6,
   "metadata": {},
   "outputs": [],
   "source": [
    "top = top.rename({\"Litho_1\": \"Litho_1_Top\", \"Litho_2\": \"Litho_2_Top\"}, axis=1)\n",
    "bott = bott.rename({\"Litho_1\": \"Litho_1_Bott\", \"Litho_2\": \"Litho_2_Bott\"}, axis=1)\n",
    "\n",
    "top[\"Litho_1_Top\"] = top[\"Litho_1_Top\"].astype(str)\n",
    "top[\"Litho_2_Top\"] = top[\"Litho_2_Top\"].astype(str)\n",
    "\n",
    "bott[\"Litho_1_Bott\"] = bott[\"Litho_1_Bott\"].astype(str)\n",
    "bott[\"Litho_2_Bott\"] = bott[\"Litho_2_Bott\"].astype(str)"
   ]
  },
  {
   "cell_type": "markdown",
   "metadata": {},
   "source": [
    "## Matching Litho_1_Top vs Litho_1_Bott"
   ]
  },
  {
   "cell_type": "code",
   "execution_count": 7,
   "metadata": {},
   "outputs": [],
   "source": [
    "tdf = pd.merge(top, bott, left_on='Litho_1_Top', right_on='Litho_1_Bott', how='inner', suffixes=(\"_Top\", \"_Bott\"))\n",
    "\n",
    "df = tdf.copy()\n",
    "\n",
    "tdf_litho = list(tdf[\"Litho_1_Top\"])\n",
    "\n",
    "top = top[~top[\"Litho_1_Top\"].isin(tdf_litho)]\n",
    "bott = bott[~bott[\"Litho_1_Bott\"].isin(tdf_litho)]"
   ]
  },
  {
   "cell_type": "markdown",
   "metadata": {},
   "source": [
    "## Matching Litho_1_Top vs Litho_2_Bott"
   ]
  },
  {
   "cell_type": "code",
   "execution_count": 8,
   "metadata": {},
   "outputs": [],
   "source": [
    "tdf = pd.merge(top, bott, left_on='Litho_1_Top', right_on='Litho_2_Bott', how='inner', suffixes=(\"_Top\", \"_Bott\"))\n",
    "\n",
    "df = pd.concat([df, tdf])\n",
    "\n",
    "tdf_litho = list(tdf[\"Litho_1_Top\"])\n",
    "\n",
    "top = top[~top[\"Litho_1_Top\"].isin(tdf_litho)]\n",
    "bott = bott[~bott[\"Litho_2_Bott\"].isin(tdf_litho)]"
   ]
  },
  {
   "cell_type": "markdown",
   "metadata": {},
   "source": [
    "## Matching Litho_2_Top vs Litho_1_Bott"
   ]
  },
  {
   "cell_type": "code",
   "execution_count": 9,
   "metadata": {},
   "outputs": [],
   "source": [
    "tdf = pd.merge(top, bott, left_on='Litho_2_Top', right_on='Litho_1_Bott', how='inner', suffixes=(\"_Top\", \"_Bott\"))\n",
    "\n",
    "df = pd.concat([df, tdf])\n",
    "\n",
    "tdf_litho = list(tdf[\"Litho_2_Top\"])\n",
    "\n",
    "top = top[~top[\"Litho_2_Top\"].isin(tdf_litho)]\n",
    "bott = bott[~bott[\"Litho_1_Bott\"].isin(tdf_litho)]"
   ]
  },
  {
   "cell_type": "markdown",
   "metadata": {},
   "source": [
    "## Matching Litho_2_Top vs Litho_2_Bott"
   ]
  },
  {
   "cell_type": "code",
   "execution_count": 10,
   "metadata": {},
   "outputs": [],
   "source": [
    "tdf = pd.merge(top, bott, left_on='Litho_2_Top', right_on='Litho_2_Bott', how='inner', suffixes=(\"_Top\", \"_Bott\"))\n",
    "\n",
    "df = pd.concat([df, tdf])\n",
    "\n",
    "tdf_litho = list(tdf[\"Litho_2_Top\"])\n",
    "\n",
    "top = top[~top[\"Litho_2_Top\"].isin(tdf_litho)]\n",
    "bott = bott[~bott[\"Litho_2_Bott\"].isin(tdf_litho)]"
   ]
  },
  {
   "cell_type": "markdown",
   "metadata": {},
   "source": [
    "## Seperating Pass and Fail Marks with Sorted Values"
   ]
  },
  {
   "cell_type": "code",
   "execution_count": 11,
   "metadata": {},
   "outputs": [],
   "source": [
    "pass_marks = df[df[\"Written_Marks\"] >= 40].sort_values([\"Applicants_Subject_Code\", \"Written_Marks\", \"DoB(YMD)\"], ascending=[1, 0, 1])\n",
    "fail_marks = df[df[\"Written_Marks\"] < 40]\n",
    "\n",
    "df.to_csv(\"Top_Bott_Output/Tabulation.csv\", index=False, sep=';')\n",
    "\n",
    "pass_marks.to_csv(\"Top_Bott_Output/Pass.csv\", index=False, sep=';')\n",
    "fail_marks.to_csv(\"Top_Bott_Output/Fail.csv\", index=False, sep=';')\n",
    "\n",
    "top.to_csv(\"Top_Bott_Output/Top_Not_In_Bott.csv\", index=False, sep=';')\n",
    "bott.to_csv(\"Top_Bott_Output/Bott_Not_In_Top.csv\", index=False, sep=';')"
   ]
  },
  {
   "cell_type": "code",
   "execution_count": null,
   "metadata": {},
   "outputs": [],
   "source": []
  }
 ],
 "metadata": {
  "kernelspec": {
   "display_name": "Python 3",
   "language": "python",
   "name": "python3"
  },
  "language_info": {
   "codemirror_mode": {
    "name": "ipython",
    "version": 3
   },
   "file_extension": ".py",
   "mimetype": "text/x-python",
   "name": "python",
   "nbconvert_exporter": "python",
   "pygments_lexer": "ipython3",
   "version": "3.6.8"
  }
 },
 "nbformat": 4,
 "nbformat_minor": 2
}
