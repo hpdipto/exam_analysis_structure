{
 "cells": [
  {
   "cell_type": "code",
   "execution_count": 1,
   "metadata": {},
   "outputs": [],
   "source": [
    "import os\n",
    "import numpy as np\n",
    "import pandas as pd"
   ]
  },
  {
   "cell_type": "code",
   "execution_count": null,
   "metadata": {},
   "outputs": [],
   "source": []
  },
  {
   "cell_type": "code",
   "execution_count": 2,
   "metadata": {},
   "outputs": [],
   "source": [
    "file_list = [file for file in os.listdir(\"Data/Bott/\") if file[-3:] == \"txt\" ]"
   ]
  },
  {
   "cell_type": "code",
   "execution_count": 3,
   "metadata": {},
   "outputs": [],
   "source": [
    "file_list = [file for file in os.listdir(\"Data/Bott/\") if file[-3:] == \"txt\" ]\n",
    "\n",
    "\n",
    "split_lengths = [10, 32, 100, 32]\n",
    "\n",
    "def split_string_with_length(string, split_length):\n",
    "    splitted_string = []\n",
    "    start = 0\n",
    "    for length in split_length:\n",
    "        splitted_string.append(string[start:start+length])\n",
    "        start += length\n",
    "    splitted_string.append(string[start:])   # take the rest of the string\n",
    "    return splitted_string"
   ]
  },
  {
   "cell_type": "code",
   "execution_count": null,
   "metadata": {},
   "outputs": [],
   "source": []
  },
  {
   "cell_type": "code",
   "execution_count": 4,
   "metadata": {},
   "outputs": [],
   "source": [
    "dataframe_structure = {\n",
    "    \"File Name\": [],\n",
    "    \"Serial #\": [],\n",
    "    \"Litho Code 1\": [],\n",
    "    \"MCQ Answers\": [],\n",
    "    \"Litho Code 2\": [],\n",
    "    \"Machine Generated #\": []\n",
    "}\n",
    "\n",
    "\n",
    "for file in file_list:\n",
    "    current_file = open(\"Data/Bott/\"+file, \"r\")\n",
    "    \n",
    "    for line in current_file:\n",
    "        if len(line) == 0:\n",
    "            continue\n",
    "        dataframe_structure[\"File Name\"].append(file[:-4])\n",
    "        \n",
    "        line = line.replace(\",\", \"\")\n",
    "\n",
    "        split_line = split_string_with_length(line[:len(line)-1], split_lengths)   # len(line)-1  - ignoring trailing new line character\n",
    "\n",
    "        dataframe_structure[\"Serial #\"].append(split_line[0])\n",
    "        dataframe_structure[\"Litho Code 1\"].append(split_line[1].replace(\" \", \"0\"))\n",
    "        dataframe_structure[\"MCQ Answers\"].append(split_line[2])\n",
    "        dataframe_structure[\"Litho Code 2\"].append(split_line[3].replace(\" \", \"0\"))\n",
    "        dataframe_structure[\"Machine Generated #\"].append(split_line[4])\n",
    "        \n",
    "    current_file.close()\n",
    "\n",
    "\n",
    "df = pd.DataFrame(dataframe_structure)"
   ]
  },
  {
   "cell_type": "code",
   "execution_count": null,
   "metadata": {},
   "outputs": [],
   "source": []
  },
  {
   "cell_type": "code",
   "execution_count": 5,
   "metadata": {},
   "outputs": [],
   "source": [
    "# filter and seperate duplicated rows"
   ]
  },
  {
   "cell_type": "code",
   "execution_count": 6,
   "metadata": {},
   "outputs": [],
   "source": [
    "Bott_Duplicate_Row = df[df.duplicated(['Litho Code 1', 'Litho Code 2'])]\n",
    "Bott_Duplicate_Row.to_csv(\"Duplicate_Bott.csv\", index=False, sep=';')\n",
    "\n",
    "df = df.drop(Bott_Duplicate_Row.index)"
   ]
  },
  {
   "cell_type": "code",
   "execution_count": null,
   "metadata": {},
   "outputs": [],
   "source": []
  },
  {
   "cell_type": "code",
   "execution_count": 7,
   "metadata": {},
   "outputs": [],
   "source": [
    "# finalize bott processing"
   ]
  },
  {
   "cell_type": "code",
   "execution_count": 7,
   "metadata": {},
   "outputs": [],
   "source": [
    "main_bott_dict = {\n",
    "    \"Serial_Bott\": df[\"Serial #\"],\n",
    "    \"File_Name_Bott\": df[\"File Name\"],\n",
    "    \"Answer\": df[\"MCQ Answers\"],\n",
    "    \"Litho_Bott_1\": df[\"Litho Code 1\"],\n",
    "    \"Litho_Bott_2\": df[\"Litho Code 2\"]\n",
    "}\n",
    "\n",
    "Main_Bott = pd.DataFrame(main_bott_dict)\n",
    "\n",
    "Main_Bott.to_csv(\"Main_Bott.csv\", index=False, sep=';')"
   ]
  },
  {
   "cell_type": "code",
   "execution_count": null,
   "metadata": {},
   "outputs": [],
   "source": []
  }
 ],
 "metadata": {
  "kernelspec": {
   "display_name": "Python 3",
   "language": "python",
   "name": "python3"
  },
  "language_info": {
   "codemirror_mode": {
    "name": "ipython",
    "version": 3
   },
   "file_extension": ".py",
   "mimetype": "text/x-python",
   "name": "python",
   "nbconvert_exporter": "python",
   "pygments_lexer": "ipython3",
   "version": "3.6.8"
  }
 },
 "nbformat": 4,
 "nbformat_minor": 2
}
