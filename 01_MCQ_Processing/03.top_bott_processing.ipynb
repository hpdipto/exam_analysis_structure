{
 "cells": [
  {
   "cell_type": "code",
   "execution_count": 1,
   "metadata": {},
   "outputs": [],
   "source": [
    "import os\n",
    "import numpy as np\n",
    "import pandas as pd"
   ]
  },
  {
   "cell_type": "code",
   "execution_count": null,
   "metadata": {},
   "outputs": [],
   "source": []
  },
  {
   "cell_type": "code",
   "execution_count": 2,
   "metadata": {},
   "outputs": [],
   "source": [
    "main_top = pd.read_csv(\"Main_Top.csv\", sep=';')\n",
    "main_bott = pd.read_csv(\"Main_Bott.csv\", sep=';')"
   ]
  },
  {
   "cell_type": "code",
   "execution_count": 3,
   "metadata": {},
   "outputs": [],
   "source": [
    "top_litho_1 = main_top[\"Litho_Top_1\"]\n",
    "top_litho_2 = main_top[\"Litho_Top_2\"]\n",
    "\n",
    "bott_litho_1 = main_bott[\"Litho_Bott_1\"]\n",
    "bott_litho_2 = main_bott[\"Litho_Bott_2\"]"
   ]
  },
  {
   "cell_type": "code",
   "execution_count": null,
   "metadata": {},
   "outputs": [],
   "source": []
  },
  {
   "cell_type": "code",
   "execution_count": 4,
   "metadata": {},
   "outputs": [],
   "source": [
    "top_litho_1_binary_equivalent_int = top_litho_1.copy()\n",
    "\n",
    "for i in range(len(top_litho_1)):\n",
    "    top_litho_1_binary_equivalent_int[i] = int(top_litho_1[i], 2)"
   ]
  },
  {
   "cell_type": "code",
   "execution_count": 5,
   "metadata": {},
   "outputs": [],
   "source": [
    "top_litho_2 = top_litho_2[top_litho_1 != top_litho_2]\n",
    "\n",
    "top_litho_2_binary_equivalent_int = top_litho_2.copy()\n",
    "\n",
    "for i in range(len(top_litho_2)):\n",
    "    top_litho_2_binary_equivalent_int.iloc[i] = int(top_litho_2.iloc[i], 2)"
   ]
  },
  {
   "cell_type": "code",
   "execution_count": 6,
   "metadata": {},
   "outputs": [],
   "source": [
    "bott_litho_1_binary_equivalent_int = bott_litho_1.copy()\n",
    "\n",
    "for i in range(len(bott_litho_1)):\n",
    "    bott_litho_1_binary_equivalent_int[i] = int(bott_litho_1[i], 2)"
   ]
  },
  {
   "cell_type": "code",
   "execution_count": 7,
   "metadata": {},
   "outputs": [],
   "source": [
    "bott_litho_2 = bott_litho_2[bott_litho_1 != bott_litho_2]\n",
    "\n",
    "bott_litho_2_binary_equivalent_int = bott_litho_2.copy()\n",
    "\n",
    "for i in range(len(bott_litho_2)):\n",
    "    bott_litho_2_binary_equivalent_int.iloc[i] = int(bott_litho_2.iloc[i], 2)"
   ]
  },
  {
   "cell_type": "code",
   "execution_count": 8,
   "metadata": {},
   "outputs": [],
   "source": [
    "top_litho_1_binary_equivalent_int = top_litho_1_binary_equivalent_int.sort_values()\n",
    "top_litho_2_binary_equivalent_int = top_litho_2_binary_equivalent_int.sort_values()\n",
    "\n",
    "bott_litho_1_binary_equivalent_int = bott_litho_1_binary_equivalent_int.sort_values()\n",
    "bott_litho_2_binary_equivalent_int = bott_litho_2_binary_equivalent_int.sort_values()"
   ]
  },
  {
   "cell_type": "code",
   "execution_count": null,
   "metadata": {},
   "outputs": [],
   "source": []
  },
  {
   "cell_type": "code",
   "execution_count": 9,
   "metadata": {},
   "outputs": [],
   "source": [
    "# checking: litho_top_1 vs litho_bott_1\n",
    "\n",
    "top_litho_int = top_litho_1_binary_equivalent_int\n",
    "bott_litho_int = bott_litho_1_binary_equivalent_int\n",
    "\n",
    "\n",
    "top_found_in_bott_index = []\n",
    "bott_found_in_top_index = []\n",
    "\n",
    "i, j = 0, 0\n",
    "\n",
    "while True:\n",
    "    \n",
    "    if top_litho_int.iloc[i] == bott_litho_int.iloc[j]:\n",
    "        top_found_in_bott_index.append(top_litho_int.index.values[i])\n",
    "        bott_found_in_top_index.append(bott_litho_int.index.values[j])\n",
    "        \n",
    "        i += 1\n",
    "        j += 1\n",
    "    \n",
    "    elif top_litho_int.iloc[i] < bott_litho_int.iloc[j]:\n",
    "        i += 1\n",
    "        \n",
    "    else:\n",
    "        j += 1\n",
    "        \n",
    "    if (i == len(top_litho_int)) or (j == len(bott_litho_int)):\n",
    "        break"
   ]
  },
  {
   "cell_type": "code",
   "execution_count": 10,
   "metadata": {},
   "outputs": [],
   "source": [
    "# keeping total match count\n",
    "\n",
    "total_match = len(top_found_in_bott_index)\n",
    "\n",
    "# dropping matched litho\n",
    "\n",
    "top_litho_1_binary_equivalent_int = top_litho_1_binary_equivalent_int.drop(top_found_in_bott_index)\n",
    "bott_litho_1_binary_equivalent_int = bott_litho_1_binary_equivalent_int.drop(bott_found_in_top_index)"
   ]
  },
  {
   "cell_type": "code",
   "execution_count": null,
   "metadata": {},
   "outputs": [],
   "source": []
  },
  {
   "cell_type": "code",
   "execution_count": 11,
   "metadata": {},
   "outputs": [],
   "source": [
    "# checking: top_litho_2 vs bott_litho_1\n",
    "\n",
    "top_litho_int = top_litho_2_binary_equivalent_int\n",
    "bott_litho_int = bott_litho_1_binary_equivalent_int\n",
    "\n",
    "\n",
    "i, j = 0, 0\n",
    "\n",
    "while True:\n",
    "    \n",
    "    if top_litho_int.iloc[i] == bott_litho_int.iloc[j]:\n",
    "        top_found_in_bott_index.append(top_litho_int.index.values[i])\n",
    "        bott_found_in_top_index.append(bott_litho_int.index.values[j])\n",
    "        \n",
    "        i += 1\n",
    "        j += 1\n",
    "    \n",
    "    elif top_litho_int.iloc[i] < bott_litho_int.iloc[j]:\n",
    "        i += 1\n",
    "        \n",
    "    else:\n",
    "        j += 1\n",
    "        \n",
    "    if (i == len(top_litho_int)) or (j == len(bott_litho_int)):\n",
    "        break"
   ]
  },
  {
   "cell_type": "code",
   "execution_count": 12,
   "metadata": {},
   "outputs": [],
   "source": [
    "# count newly matched litho\n",
    "\n",
    "newly_added = len(top_found_in_bott_index) - total_match\n",
    "total_match = total_match + newly_added\n",
    "\n",
    "# if anything newly matched then drop those\n",
    "\n",
    "if newly_added != 0:    \n",
    "    top_litho_2_binary_equivalent_int = top_litho_2_binary_equivalent_int.drop(top_found_in_bott_index[-newly_added:])\n",
    "    bott_litho_1_binary_equivalent_int = bott_litho_1_binary_equivalent_int.drop(bott_found_in_top_index[-newly_added:])"
   ]
  },
  {
   "cell_type": "code",
   "execution_count": null,
   "metadata": {},
   "outputs": [],
   "source": []
  },
  {
   "cell_type": "code",
   "execution_count": 13,
   "metadata": {},
   "outputs": [],
   "source": [
    "# checking: litho_top_1 vs litho_bott_2\n",
    "\n",
    "top_litho_int = top_litho_1_binary_equivalent_int\n",
    "bott_litho_int = bott_litho_2_binary_equivalent_int\n",
    "\n",
    "\n",
    "i, j = 0, 0\n",
    "\n",
    "while True:\n",
    "    \n",
    "    if top_litho_int.iloc[i] == bott_litho_int.iloc[j]:\n",
    "        top_found_in_bott_index.append(top_litho_int.index.values[i])\n",
    "        bott_found_in_top_index.append(bott_litho_int.index.values[j])\n",
    "        \n",
    "        i += 1\n",
    "        j += 1\n",
    "    \n",
    "    elif top_litho_int.iloc[i] < bott_litho_int.iloc[j]:\n",
    "        i += 1\n",
    "        \n",
    "    else:\n",
    "        j += 1\n",
    "        \n",
    "    if (i == len(top_litho_int)) or (j == len(bott_litho_int)):\n",
    "        break"
   ]
  },
  {
   "cell_type": "code",
   "execution_count": 14,
   "metadata": {},
   "outputs": [],
   "source": [
    "# count newly matched litho\n",
    "\n",
    "newly_added = len(top_found_in_bott_index) - total_match\n",
    "total_match = total_match + newly_added\n",
    "\n",
    "# if anything newly matched then drop those\n",
    "\n",
    "if newly_added != 0:    \n",
    "    top_litho_1_binary_equivalent_int = top_litho_1_binary_equivalent_int.drop(top_found_in_bott_index[-newly_added:])\n",
    "    bott_litho_2_binary_equivalent_int = bott_litho_2_binary_equivalent_int.drop(bott_found_in_top_index[-newly_added:])"
   ]
  },
  {
   "cell_type": "code",
   "execution_count": null,
   "metadata": {},
   "outputs": [],
   "source": []
  },
  {
   "cell_type": "code",
   "execution_count": 15,
   "metadata": {},
   "outputs": [],
   "source": [
    "# checking: top_litho_2 vs bott_litho_2\n",
    "\n",
    "top_litho_int = top_litho_2_binary_equivalent_int\n",
    "bott_litho_int = bott_litho_2_binary_equivalent_int\n",
    "\n",
    "\n",
    "i, j = 0, 0\n",
    "\n",
    "while True:\n",
    "    \n",
    "    if top_litho_int.iloc[i] == bott_litho_int.iloc[j]:\n",
    "        top_found_in_bott_index.append(top_litho_int.index.values[i])\n",
    "        bott_found_in_top_index.append(bott_litho_int.index.values[j])\n",
    "        \n",
    "        i += 1\n",
    "        j += 1\n",
    "    \n",
    "    elif top_litho_int.iloc[i] < bott_litho_int.iloc[j]:\n",
    "        i += 1\n",
    "        \n",
    "    else:\n",
    "        j += 1\n",
    "        \n",
    "    if (i == len(top_litho_int)) or (j == len(bott_litho_int)):\n",
    "        break"
   ]
  },
  {
   "cell_type": "code",
   "execution_count": 16,
   "metadata": {},
   "outputs": [],
   "source": [
    "# count newly matched litho\n",
    "\n",
    "newly_added = len(top_found_in_bott_index) - total_match\n",
    "total_match = total_match + newly_added\n",
    "\n",
    "# if anything newly matched then drop those\n",
    "\n",
    "if newly_added != 0:\n",
    "    top_litho_2_binary_equivalent_int = top_litho_2_binary_equivalent_int.drop(top_found_in_bott_index[-newly_added:])\n",
    "    bott_litho_2_binary_equivalent_int = bott_litho_2_binary_equivalent_int.drop(bott_found_in_top_index[-newly_added:])"
   ]
  },
  {
   "cell_type": "code",
   "execution_count": null,
   "metadata": {},
   "outputs": [],
   "source": []
  },
  {
   "cell_type": "code",
   "execution_count": 17,
   "metadata": {},
   "outputs": [],
   "source": [
    "# selecting unmatched litho and giving output in files\n",
    "\n",
    "main_top_not_found = main_top.drop(top_found_in_bott_index)\n",
    "main_bott_not_found = main_bott.drop(bott_found_in_top_index)\n",
    "\n",
    "\n",
    "main_top_not_found.to_csv(\"Top_Litho_Unmatchecd.csv\", index=False, sep=';')\n",
    "main_bott_not_found.to_csv(\"Bott_Litho_Unmatched.csv\", index=False, sep=';')"
   ]
  },
  {
   "cell_type": "code",
   "execution_count": null,
   "metadata": {},
   "outputs": [],
   "source": []
  },
  {
   "cell_type": "code",
   "execution_count": 18,
   "metadata": {},
   "outputs": [],
   "source": [
    "# selecting matched litho, choosing file name and corresponding answers and giving output in file\n",
    "\n",
    "main_top_found = main_top.loc[top_found_in_bott_index]\n",
    "main_bott_found = main_bott.loc[bott_found_in_top_index]\n",
    "\n",
    "\n",
    "bott_file_names = list(main_bott[\"File_Name_Bott\"].loc[bott_found_in_top_index])\n",
    "main_top_found[\"File_Name_Bott\"] = bott_file_names\n",
    "\n",
    "\n",
    "bott_answer = list(main_bott[\"Answer\"].loc[bott_found_in_top_index])\n",
    "main_top_found[\"Answer\"] = bott_answer"
   ]
  },
  {
   "cell_type": "code",
   "execution_count": null,
   "metadata": {},
   "outputs": [],
   "source": []
  },
  {
   "cell_type": "code",
   "execution_count": 19,
   "metadata": {},
   "outputs": [],
   "source": [
    "# includeing main_bott litho\n",
    "\n",
    "main_top_found[\"Litho_Bott_1\"] = list(main_bott_found[\"Litho_Bott_1\"])\n",
    "main_top_found[\"Litho_Bott_2\"] = list(main_bott_found[\"Litho_Bott_2\"])\n",
    "\n",
    "\n",
    "main_top_found.to_csv(\"Ready_for_Result_Processing.csv\", index=False, sep=';')"
   ]
  },
  {
   "cell_type": "code",
   "execution_count": null,
   "metadata": {},
   "outputs": [],
   "source": []
  }
 ],
 "metadata": {
  "kernelspec": {
   "display_name": "Python 3",
   "language": "python",
   "name": "python3"
  },
  "language_info": {
   "codemirror_mode": {
    "name": "ipython",
    "version": 3
   },
   "file_extension": ".py",
   "mimetype": "text/x-python",
   "name": "python",
   "nbconvert_exporter": "python",
   "pygments_lexer": "ipython3",
   "version": "3.6.8"
  }
 },
 "nbformat": 4,
 "nbformat_minor": 2
}
