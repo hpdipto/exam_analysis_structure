{
 "cells": [
  {
   "cell_type": "code",
   "execution_count": 1,
   "metadata": {},
   "outputs": [],
   "source": [
    "import os\n",
    "import numpy as np\n",
    "import pandas as pd"
   ]
  },
  {
   "cell_type": "code",
   "execution_count": null,
   "metadata": {},
   "outputs": [],
   "source": []
  },
  {
   "cell_type": "code",
   "execution_count": 2,
   "metadata": {},
   "outputs": [],
   "source": [
    "split_lengths = [10, 1, 3, 100]\n",
    "\n",
    "def split_string_with_length(string, split_length):\n",
    "    splitted_string = []\n",
    "    start = 0\n",
    "    for length in split_length:\n",
    "        splitted_string.append(string[start:start+length])\n",
    "        start += length\n",
    "    splitted_string.append(string[start:])   # take the rest of the string\n",
    "    return splitted_string"
   ]
  },
  {
   "cell_type": "code",
   "execution_count": null,
   "metadata": {},
   "outputs": [],
   "source": []
  },
  {
   "cell_type": "code",
   "execution_count": 3,
   "metadata": {},
   "outputs": [],
   "source": [
    "dataframe_structure = {\n",
    "    \"Serial #\": [],\n",
    "    \"Set_Code\": [],\n",
    "    \"Subject_Code\": [],\n",
    "    \"Answer\": []\n",
    "}\n",
    "\n",
    "\n",
    "answer_file = open(\"Data/BOT_ANS.txt\", \"r\")\n",
    "\n",
    "for line in answer_file:\n",
    "    answer_file_data = split_string_with_length(line, split_lengths)\n",
    "    \n",
    "    dataframe_structure[\"Serial #\"].append(answer_file_data[0])\n",
    "    dataframe_structure[\"Set_Code\"].append(answer_file_data[1])\n",
    "    dataframe_structure[\"Subject_Code\"].append(answer_file_data[2])\n",
    "    dataframe_structure[\"Answer\"].append(answer_file_data[3])\n",
    "    \n",
    "answer_file.close()\n",
    "\n",
    "answers = pd.DataFrame(dataframe_structure)"
   ]
  },
  {
   "cell_type": "code",
   "execution_count": null,
   "metadata": {},
   "outputs": [],
   "source": []
  },
  {
   "cell_type": "code",
   "execution_count": 4,
   "metadata": {},
   "outputs": [],
   "source": [
    "answer_200_1 = answers[(answers[\"Subject_Code\"] == '200') & (answers[\"Set_Code\"] == '1')][\"Answer\"].values[0]\n",
    "answer_200_2 = answers[(answers[\"Subject_Code\"] == '200') & (answers[\"Set_Code\"] == '2')][\"Answer\"].values[0]\n",
    "answer_200_3 = answers[(answers[\"Subject_Code\"] == '200') & (answers[\"Set_Code\"] == '3')][\"Answer\"].values[0]\n",
    "answer_200_4 = answers[(answers[\"Subject_Code\"] == '200') & (answers[\"Set_Code\"] == '4')][\"Answer\"].values[0]\n",
    "\n",
    "answer_300_1 = answers[(answers[\"Subject_Code\"] == '300') & (answers[\"Set_Code\"] == '1')][\"Answer\"].values[0]\n",
    "answer_300_2 = answers[(answers[\"Subject_Code\"] == '300') & (answers[\"Set_Code\"] == '2')][\"Answer\"].values[0]\n",
    "answer_300_3 = answers[(answers[\"Subject_Code\"] == '300') & (answers[\"Set_Code\"] == '3')][\"Answer\"].values[0]\n",
    "answer_300_4 = answers[(answers[\"Subject_Code\"] == '300') & (answers[\"Set_Code\"] == '4')][\"Answer\"].values[0]\n",
    "\n",
    "answer_400_1 = answers[(answers[\"Subject_Code\"] == '400') & (answers[\"Set_Code\"] == '1')][\"Answer\"].values[0]\n",
    "answer_400_2 = answers[(answers[\"Subject_Code\"] == '400') & (answers[\"Set_Code\"] == '2')][\"Answer\"].values[0]\n",
    "answer_400_3 = answers[(answers[\"Subject_Code\"] == '400') & (answers[\"Set_Code\"] == '3')][\"Answer\"].values[0]\n",
    "answer_400_4 = answers[(answers[\"Subject_Code\"] == '400') & (answers[\"Set_Code\"] == '4')][\"Answer\"].values[0]"
   ]
  },
  {
   "cell_type": "code",
   "execution_count": 5,
   "metadata": {},
   "outputs": [],
   "source": [
    "answer_list = [[], [], [0, answer_200_1, answer_200_2, answer_200_3, answer_200_4],\n",
    "               [0, answer_300_1, answer_300_2, answer_300_3, answer_300_4],\n",
    "               [0, answer_400_1, answer_400_2, answer_400_3, answer_400_4]]"
   ]
  },
  {
   "cell_type": "code",
   "execution_count": null,
   "metadata": {},
   "outputs": [],
   "source": []
  },
  {
   "cell_type": "code",
   "execution_count": 6,
   "metadata": {},
   "outputs": [],
   "source": [
    "def calculate_mark(answer, correct_answer):\n",
    "    mark = 0\n",
    "    \n",
    "    for i in range(len(answer)):\n",
    "        if correct_answer[i] == \" \":\n",
    "            mark += 1\n",
    "        elif answer[i] == correct_answer[i]:\n",
    "            mark += 1\n",
    "        elif answer[i] == \" \":\n",
    "            mark += 0\n",
    "        else:\n",
    "            mark -= 0.5\n",
    "            \n",
    "    return mark"
   ]
  },
  {
   "cell_type": "code",
   "execution_count": null,
   "metadata": {},
   "outputs": [],
   "source": []
  },
  {
   "cell_type": "code",
   "execution_count": 7,
   "metadata": {},
   "outputs": [],
   "source": [
    "ready = pd.read_csv(\"Ready_for_Result_Processing.csv\", sep=';')"
   ]
  },
  {
   "cell_type": "code",
   "execution_count": 8,
   "metadata": {},
   "outputs": [],
   "source": [
    "student_subject_code = ready[\"Generated_Subject_Code\"].astype(int)\n",
    "student_set_code = ready[\"Set_Code\"].astype(int)\n",
    "student_answer = ready[\"Answer\"].astype(str)"
   ]
  },
  {
   "cell_type": "code",
   "execution_count": 9,
   "metadata": {},
   "outputs": [],
   "source": [
    "marks = []\n",
    "\n",
    "for i in range(len(ready)):\n",
    "    \n",
    "    answer = student_answer[i]\n",
    "    correct_answer = answer_list[int(student_subject_code[i]/100)][student_set_code[i]]\n",
    "    \n",
    "    mark = calculate_mark(answer, correct_answer)\n",
    "    marks.append(mark)\n",
    "\n",
    "ready[\"Marks\"] = marks"
   ]
  },
  {
   "cell_type": "code",
   "execution_count": null,
   "metadata": {},
   "outputs": [],
   "source": []
  },
  {
   "cell_type": "code",
   "execution_count": 10,
   "metadata": {},
   "outputs": [],
   "source": [
    "df = {\n",
    "    \"Roll\": ready[\"Roll\"],\n",
    "    \"Marks\": ready[\"Marks\"],\n",
    "    \"Set_Code\": ready[\"Set_Code\"],\n",
    "    \"Subject_Code\": ready[\"Subject_Code\"],\n",
    "    \"Answer\": ready[\"Answer\"],\n",
    "    \"File_Name_Top\": ready[\"File_Name_Top\"],\n",
    "    \"Serial_Top\": ready[\"Serial_Top\"],\n",
    "    \"File_Name_Bott\": ready[\"File_Name_Bott\"],\n",
    "    \"Litho_Top_1\": ready[\"Litho_Top_1\"],\n",
    "    \"Litho_Top_2\": ready[\"Litho_Top_1\"],\n",
    "    \"Litho_Bott_1\": ready[\"Litho_Bott_1\"],\n",
    "    \"Litho_Bott_2\": ready[\"Litho_Bott_2\"]\n",
    "}\n",
    "\n",
    "tabulation_ready = pd.DataFrame(df)"
   ]
  },
  {
   "cell_type": "code",
   "execution_count": 11,
   "metadata": {},
   "outputs": [],
   "source": [
    "tabulation_ready.to_csv(\"Tabulation.csv\", index=False, sep=';')"
   ]
  },
  {
   "cell_type": "code",
   "execution_count": null,
   "metadata": {},
   "outputs": [],
   "source": []
  },
  {
   "cell_type": "code",
   "execution_count": null,
   "metadata": {},
   "outputs": [],
   "source": []
  }
 ],
 "metadata": {
  "kernelspec": {
   "display_name": "Python 3",
   "language": "python",
   "name": "python3"
  },
  "language_info": {
   "codemirror_mode": {
    "name": "ipython",
    "version": 3
   },
   "file_extension": ".py",
   "mimetype": "text/x-python",
   "name": "python",
   "nbconvert_exporter": "python",
   "pygments_lexer": "ipython3",
   "version": "3.6.8"
  }
 },
 "nbformat": 4,
 "nbformat_minor": 2
}
