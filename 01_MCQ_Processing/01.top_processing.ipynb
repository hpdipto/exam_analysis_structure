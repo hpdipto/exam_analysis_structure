{
 "cells": [
  {
   "cell_type": "code",
   "execution_count": 1,
   "metadata": {},
   "outputs": [],
   "source": [
    "import os\n",
    "import numpy as np\n",
    "import pandas as pd"
   ]
  },
  {
   "cell_type": "code",
   "execution_count": null,
   "metadata": {},
   "outputs": [],
   "source": []
  },
  {
   "cell_type": "code",
   "execution_count": 2,
   "metadata": {},
   "outputs": [],
   "source": [
    "file_list = [file for file in os.listdir(\"Data/Top/\") if file[-3:] == \"txt\" ]"
   ]
  },
  {
   "cell_type": "code",
   "execution_count": 3,
   "metadata": {},
   "outputs": [],
   "source": [
    "split_lengths = [10, 32, 1, 3, 9, 2, 3, 32]   # roll length changed 8 <- 9\n",
    "\n",
    "# split a string according to a given length\n",
    "def split_string_with_length(string, split_length):\n",
    "    splitted_string = []\n",
    "    start = 0\n",
    "    for length in split_length:\n",
    "        splitted_string.append(string[start:start+length])\n",
    "        start += length\n",
    "    splitted_string.append(string[start:])   # take the rest of the string\n",
    "    return splitted_string"
   ]
  },
  {
   "cell_type": "code",
   "execution_count": null,
   "metadata": {},
   "outputs": [],
   "source": []
  },
  {
   "cell_type": "code",
   "execution_count": 4,
   "metadata": {},
   "outputs": [],
   "source": [
    "dataframe_structure = {\n",
    "    \"File Name\": [],\n",
    "    \"Serial #\": [],\n",
    "    \"Litho Code 1\": [],\n",
    "    \"Set Code\": [],\n",
    "    \"Subject Code\": [],\n",
    "    \"Roll\": [],\n",
    "    \"Exam #\": [],\n",
    "    \"Venue Code\": [],\n",
    "    \"Litho Code 2\": [],\n",
    "    \"Machine Generate #\": []\n",
    "}\n",
    "\n",
    "\n",
    "for file in file_list:\n",
    "    current_file = open(\"Data/Top/\"+file, \"r\")\n",
    "    \n",
    "    for line in current_file:\n",
    "        if len(line) < 5:\n",
    "            continue\n",
    "        dataframe_structure[\"File Name\"].append(file[:-4])\n",
    "        \n",
    "        line = line.replace(\",\", \"\")\n",
    "\n",
    "        split_line = split_string_with_length(line[:len(line)-1], split_lengths)   # len(line)-1  - ignoring trailing new line character\n",
    "\n",
    "        dataframe_structure[\"Serial #\"].append(split_line[0])\n",
    "        dataframe_structure[\"Litho Code 1\"].append(split_line[1].replace(\" \", \"0\"))\n",
    "        dataframe_structure[\"Set Code\"].append(split_line[2])\n",
    "        dataframe_structure[\"Subject Code\"].append(split_line[3])\n",
    "        dataframe_structure[\"Roll\"].append(split_line[4])\n",
    "        dataframe_structure[\"Exam #\"].append(split_line[5])\n",
    "        dataframe_structure[\"Venue Code\"].append(split_line[6])\n",
    "        dataframe_structure[\"Litho Code 2\"].append(split_line[7].replace(\" \", \"0\"))\n",
    "        dataframe_structure[\"Machine Generate #\"].append(split_line[8])\n",
    "    \n",
    "    current_file.close()\n",
    "\n",
    "\n",
    "df = pd.DataFrame(dataframe_structure)"
   ]
  },
  {
   "cell_type": "code",
   "execution_count": null,
   "metadata": {},
   "outputs": [],
   "source": []
  },
  {
   "cell_type": "code",
   "execution_count": 6,
   "metadata": {},
   "outputs": [],
   "source": [
    "# check for valid but duplicate data"
   ]
  },
  {
   "cell_type": "code",
   "execution_count": 7,
   "metadata": {},
   "outputs": [],
   "source": [
    "Top_Duplicate_Row = df[df.duplicated(['Litho Code 1', 'Roll', 'Litho Code 2'])]\n",
    "Top_Duplicate_Row.to_csv(\"Duplicate_Top.csv\", index=False, sep=';')\n",
    "\n",
    "df = df.drop(Top_Duplicate_Row.index)"
   ]
  },
  {
   "cell_type": "code",
   "execution_count": null,
   "metadata": {},
   "outputs": [],
   "source": []
  },
  {
   "cell_type": "code",
   "execution_count": 8,
   "metadata": {},
   "outputs": [],
   "source": [
    "# processing applicants info"
   ]
  },
  {
   "cell_type": "code",
   "execution_count": 9,
   "metadata": {},
   "outputs": [],
   "source": [
    "applicants_file = open(\"Data/Applicants.txt\", \"rb\")"
   ]
  },
  {
   "cell_type": "code",
   "execution_count": 10,
   "metadata": {},
   "outputs": [],
   "source": [
    "applicants_structure = {\n",
    "    \"Invoice\": [],\n",
    "    \"Roll\": [],\n",
    "    \"Name\": [],\n",
    "    \"Venue Code\": []\n",
    "}\n",
    "\n",
    "for line in applicants_file:\n",
    "    line = str(line)[2:-5]   # binary reading ambiguity\n",
    "    applicants_data = line.split(';')\n",
    "    \n",
    "    applicants_structure[\"Invoice\"].append(applicants_data[0]) \n",
    "    applicants_structure[\"Roll\"].append(applicants_data[1]) \n",
    "    applicants_structure[\"Name\"].append(applicants_data[2]) \n",
    "    applicants_structure[\"Venue Code\"].append(applicants_data[3]) \n",
    "    \n",
    "applicants_file.close()\n",
    "\n",
    "applicants = pd.DataFrame(applicants_structure)"
   ]
  },
  {
   "cell_type": "code",
   "execution_count": null,
   "metadata": {},
   "outputs": [],
   "source": []
  },
  {
   "cell_type": "code",
   "execution_count": 11,
   "metadata": {},
   "outputs": [],
   "source": [
    "# seperating invalid roll"
   ]
  },
  {
   "cell_type": "code",
   "execution_count": 12,
   "metadata": {},
   "outputs": [],
   "source": [
    "def not_number(number):\n",
    "    number = str(number)\n",
    "    \n",
    "    for n in number:\n",
    "        if n not in \"0123456789\":\n",
    "            return True\n",
    "    return False"
   ]
  },
  {
   "cell_type": "code",
   "execution_count": 13,
   "metadata": {},
   "outputs": [],
   "source": [
    "def binary_search(element, sorted_array):\n",
    "    start = 0\n",
    "    end = len(sorted_array) - 1\n",
    "    \n",
    "    while start <= end:\n",
    "        mid = (start + end) // 2\n",
    "        \n",
    "        if sorted_array[mid] == element:\n",
    "            return True\n",
    "        else:\n",
    "            if sorted_array[mid] > element:\n",
    "                end = mid - 1\n",
    "            else:\n",
    "                start = mid + 1\n",
    "        \n",
    "    return False"
   ]
  },
  {
   "cell_type": "code",
   "execution_count": 14,
   "metadata": {},
   "outputs": [],
   "source": [
    "applicants_roll = list(applicants[\"Roll\"].astype(int).sort_values())\n",
    "\n",
    "roll = df[\"Roll\"]"
   ]
  },
  {
   "cell_type": "code",
   "execution_count": 15,
   "metadata": {},
   "outputs": [],
   "source": [
    "invalid_roll_index = []\n",
    "\n",
    "for i in range(len(roll)):\n",
    "    df_roll = roll.iloc[i]\n",
    "    \n",
    "    if not_number(df_roll) == True:\n",
    "        invalid_roll_index.append(i)\n",
    "    else:\n",
    "        if binary_search(int(df_roll), applicants_roll) == False:\n",
    "            invalid_roll_index.append(i)"
   ]
  },
  {
   "cell_type": "code",
   "execution_count": 16,
   "metadata": {},
   "outputs": [],
   "source": [
    "invalid_roll = df.iloc[invalid_roll_index]\n",
    "df = df.drop(invalid_roll.index)"
   ]
  },
  {
   "cell_type": "code",
   "execution_count": 17,
   "metadata": {},
   "outputs": [],
   "source": [
    "invalid_roll.to_csv(\"Invalid_Roll.csv\", index=False, sep=';')"
   ]
  },
  {
   "cell_type": "code",
   "execution_count": null,
   "metadata": {},
   "outputs": [],
   "source": []
  },
  {
   "cell_type": "code",
   "execution_count": 18,
   "metadata": {},
   "outputs": [],
   "source": [
    "# seperate duplicate rolls"
   ]
  },
  {
   "cell_type": "code",
   "execution_count": 19,
   "metadata": {},
   "outputs": [],
   "source": [
    "roll = df[\"Roll\"]\n",
    "\n",
    "duplicate_rolls = roll[roll.duplicated(keep=False)]\n",
    "\n",
    "duplicate_roll = duplicate_rolls.drop_duplicates()\n",
    "\n",
    "duplicate_rolls_series = pd.Series([])\n",
    "\n",
    "for dr in duplicate_roll:\n",
    "    mask = duplicate_rolls == dr\n",
    "    duplicate_rolls_series = duplicate_rolls_series.append(duplicate_rolls[mask])\n",
    "        \n",
    "\n",
    "duplicate_rolls = df.loc[duplicate_rolls_series.index]\n",
    "df = df.drop(duplicate_rolls.index)"
   ]
  },
  {
   "cell_type": "code",
   "execution_count": 20,
   "metadata": {},
   "outputs": [],
   "source": [
    "duplicate_rolls.to_csv(\"Duplicate_Roll.csv\", index=False, sep=';')"
   ]
  },
  {
   "cell_type": "code",
   "execution_count": null,
   "metadata": {},
   "outputs": [],
   "source": []
  },
  {
   "cell_type": "code",
   "execution_count": 21,
   "metadata": {},
   "outputs": [],
   "source": [
    "# seperate invalid set code"
   ]
  },
  {
   "cell_type": "code",
   "execution_count": 22,
   "metadata": {},
   "outputs": [],
   "source": [
    "set_code = df[\"Set Code\"]"
   ]
  },
  {
   "cell_type": "code",
   "execution_count": 23,
   "metadata": {},
   "outputs": [],
   "source": [
    "invalid_set_code_index = []\n",
    "\n",
    "for i in range(len(set_code)):\n",
    "    if set_code.iloc[i] not in ['1', '2', '3', '4']:\n",
    "        invalid_set_code_index.append(i)"
   ]
  },
  {
   "cell_type": "code",
   "execution_count": 24,
   "metadata": {},
   "outputs": [],
   "source": [
    "invalid_set_code = df.iloc[invalid_set_code_index]\n",
    "df = df.drop(invalid_set_code.index)"
   ]
  },
  {
   "cell_type": "code",
   "execution_count": 25,
   "metadata": {},
   "outputs": [],
   "source": [
    "invalid_set_code.to_csv(\"Invalid_Set_Code.csv\", index=False, sep=';')"
   ]
  },
  {
   "cell_type": "code",
   "execution_count": null,
   "metadata": {},
   "outputs": [],
   "source": []
  },
  {
   "cell_type": "code",
   "execution_count": 26,
   "metadata": {},
   "outputs": [],
   "source": [
    "# generate subject code from first digit of roll"
   ]
  },
  {
   "cell_type": "code",
   "execution_count": 27,
   "metadata": {},
   "outputs": [],
   "source": [
    "subject_code_dict = {'1': 100, '2': 200, '3': 300, '4': 400}\n",
    "\n",
    "generated_subject_code = [subject_code_dict[ str(roll)[0] ] for roll in df[\"Roll\"]]\n",
    "\n",
    "df[\"Generated Subject Code\"] = generated_subject_code"
   ]
  },
  {
   "cell_type": "code",
   "execution_count": null,
   "metadata": {},
   "outputs": [],
   "source": []
  },
  {
   "cell_type": "code",
   "execution_count": 28,
   "metadata": {},
   "outputs": [],
   "source": [
    "# finalize top processing"
   ]
  },
  {
   "cell_type": "code",
   "execution_count": 29,
   "metadata": {},
   "outputs": [],
   "source": [
    "main_top_dict = {\n",
    "                 \"Roll\": df[\"Roll\"],\n",
    "                 \"Serial_Top\": df[\"Serial #\"],\n",
    "                 \"File_Name_Top\": df[\"File Name\"],\n",
    "                 \"Set_Code\": df[\"Set Code\"],\n",
    "                 \"Subject_Code\": df[\"Subject Code\"],\n",
    "                 \"Generated_Subject_Code\": df[\"Generated Subject Code\"],\n",
    "                 \"Litho_Top_1\": df[\"Litho Code 1\"],\n",
    "                 \"Litho_Top_2\": df[\"Litho Code 2\"]\n",
    "                }\n",
    "\n",
    "Main_Top = pd.DataFrame(main_top_dict)\n",
    "\n",
    "Main_Top.to_csv(\"Main_Top.csv\", index=False, sep=';')"
   ]
  },
  {
   "cell_type": "code",
   "execution_count": null,
   "metadata": {},
   "outputs": [],
   "source": []
  }
 ],
 "metadata": {
  "kernelspec": {
   "display_name": "Python 3",
   "language": "python",
   "name": "python3"
  },
  "language_info": {
   "codemirror_mode": {
    "name": "ipython",
    "version": 3
   },
   "file_extension": ".py",
   "mimetype": "text/x-python",
   "name": "python",
   "nbconvert_exporter": "python",
   "pygments_lexer": "ipython3",
   "version": "3.6.8"
  }
 },
 "nbformat": 4,
 "nbformat_minor": 2
}
