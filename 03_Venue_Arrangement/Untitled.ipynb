{
 "cells": [
  {
   "cell_type": "code",
   "execution_count": 32,
   "metadata": {},
   "outputs": [],
   "source": [
    "import os\n",
    "import pandas as pd"
   ]
  },
  {
   "cell_type": "code",
   "execution_count": 33,
   "metadata": {},
   "outputs": [],
   "source": [
    "complete_list = pd.read_csv(\"Complete_List.csv\", sep=';')"
   ]
  },
  {
   "cell_type": "code",
   "execution_count": null,
   "metadata": {},
   "outputs": [],
   "source": []
  },
  {
   "cell_type": "code",
   "execution_count": 34,
   "metadata": {},
   "outputs": [],
   "source": [
    "center = list(set(complete_list[\"Center\"]))"
   ]
  },
  {
   "cell_type": "code",
   "execution_count": 35,
   "metadata": {},
   "outputs": [],
   "source": [
    "subject_code_dict = {'2': '200', '3': '300', '4': '400'}\n",
    "\n",
    "new_subject_code = []\n",
    "\n",
    "subject_code = complete_list[\"Subject_Code\"]\n",
    "\n",
    "for sc in subject_code:\n",
    "    c = str(sc)[0]\n",
    "    new_subject_code.append(subject_code_dict[c])\n",
    "\n",
    "complete_list[\"New_Subject_Code\"] = new_subject_code"
   ]
  },
  {
   "cell_type": "code",
   "execution_count": null,
   "metadata": {},
   "outputs": [],
   "source": []
  },
  {
   "cell_type": "code",
   "execution_count": 36,
   "metadata": {},
   "outputs": [],
   "source": [
    "os.mkdir(\"Center and Subject Wise List\")\n",
    "\n",
    "for cen in center:\n",
    "    tdf = complete_list[complete_list[\"Center\"] == cen]\n",
    "    os.mkdir(\"Center and Subject Wise List/\"+cen)\n",
    "    \n",
    "    for sub_code in ['200', '300', '400']:\n",
    "        ttdf = tdf[tdf[\"New_Subject_Code\"] == sub_code]\n",
    "        \n",
    "        path = \"Center and Subject Wise List/\" + cen + \"/\"\n",
    "        name = cen + \"_\" + sub_code + \".csv\"\n",
    "        \n",
    "        ttdf = ttdf.drop(\"New_Subject_Code\", axis=1)\n",
    "        ttdf.to_csv(path+name, sep=';', index=False)"
   ]
  },
  {
   "cell_type": "code",
   "execution_count": null,
   "metadata": {},
   "outputs": [],
   "source": []
  }
 ],
 "metadata": {
  "kernelspec": {
   "display_name": "Python 3",
   "language": "python",
   "name": "python3"
  },
  "language_info": {
   "codemirror_mode": {
    "name": "ipython",
    "version": 3
   },
   "file_extension": ".py",
   "mimetype": "text/x-python",
   "name": "python",
   "nbconvert_exporter": "python",
   "pygments_lexer": "ipython3",
   "version": "3.6.9"
  }
 },
 "nbformat": 4,
 "nbformat_minor": 2
}
